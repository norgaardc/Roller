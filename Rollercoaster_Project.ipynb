{
  "nbformat": 4,
  "nbformat_minor": 0,
  "metadata": {
    "colab": {
      "name": "Rollercoaster Project.ipynb",
      "version": "0.3.2",
      "provenance": [],
      "collapsed_sections": []
    },
    "language_info": {
      "codemirror_mode": {
        "name": "ipython",
        "version": 3
      },
      "file_extension": ".py",
      "mimetype": "text/x-python",
      "name": "python",
      "nbconvert_exporter": "python",
      "pygments_lexer": "ipython3",
      "version": "3.6.5"
    },
    "kernelspec": {
      "display_name": "Python 3",
      "language": "python",
      "name": "python3"
    }
  },
  "cells": [
    {
      "metadata": {
        "id": "XRlg3YxPWGGs",
        "colab_type": "text"
      },
      "cell_type": "markdown",
      "source": [
        "### Reading and Editing the Rollercoaster CSV File\n",
        "\n",
        "First we opened the rollercoaster CSV and stripped any whitespace. We then fixed the height in the \"Height\" column so that every value was an integer. For the duration column, we replaced any \"NaN\" values with \"0:00\", and replaced all \"NaN\" values in the Length column with \"0\". Finally, we converted every value in the Height column to a float."
      ]
    },
    {
      "metadata": {
        "id": "kaALKLe3WD1Z",
        "colab_type": "code",
        "outputId": "20fe25fd-31cc-40a9-e8d4-0a25aac33acb",
        "colab": {}
      },
      "cell_type": "code",
      "source": [
        "import pandas as pd\n",
        "\n",
        "roller = pd.read_csv('rollercoaster.csv')\n",
        "roller.columns = roller.columns.str.strip()\n",
        "roller = roller.rename(columns={\"Height (feet)\":\"Height\"})\n",
        "roller.loc[111, 'Height'] = 200\n",
        "roller = roller [0:300]\n",
        "roller['Duration (min:sec)'] = roller['Duration (min:sec)'].fillna('0:00')\n",
        "roller['Duration (min:sec)'] = roller['Duration (min:sec)'].replace(' ','0:00')\n",
        "roller['Length (feet)'] = roller['Length (feet)'].fillna(0)\n",
        "roller['Height'] = roller['Height'].astype(float)\n",
        "roller.columns"
      ],
      "execution_count": 0,
      "outputs": [
        {
          "output_type": "execute_result",
          "data": {
            "text/plain": [
              "Index(['Name', 'Park', 'City/Region', 'City/State/Region', 'Country/Region',\n",
              "       'Geographic Region', 'Construction', 'Type', 'Status',\n",
              "       'Year/Date Opened', 'Height', 'Speed (mph)', 'Length (feet)',\n",
              "       'Inversions (YES or NO)', 'Number of Inversions', 'Drop (feet)',\n",
              "       'Duration (min:sec)', 'G Force', 'Vertical Angle (degrees)'],\n",
              "      dtype='object')"
            ]
          },
          "metadata": {
            "tags": []
          },
          "execution_count": 118
        }
      ]
    },
    {
      "metadata": {
        "id": "dPkO7-_vZ4ie",
        "colab_type": "text"
      },
      "cell_type": "markdown",
      "source": [
        "### Duration Function\n",
        "\n",
        "The Duration Function awards points based on the length of the ride. Longer rides will receive more points than shorter rides and vice versa. We first had to convert the time format in the table to just seconds instead of minutes and seconds. Once our times had been changed, we awarded points for every additional 70 seconds."
      ]
    },
    {
      "metadata": {
        "id": "C9tKAjYNWD1o",
        "colab_type": "code",
        "colab": {}
      },
      "cell_type": "code",
      "source": [
        "#DURATION\n",
        "def mintosec(time):\n",
        "    new = time.split(':')\n",
        "    seconds = (int(new[0])*60) + int(new[1])\n",
        "    return seconds\n",
        "\n",
        "rollerduration = roller['Duration (min:sec)']\n",
        "def duration(rollerduration):\n",
        "    seconds = mintosec(rollerduration)\n",
        "    if seconds <=70:\n",
        "        durationpoints = 1\n",
        "    elif 70 < seconds <= 140:\n",
        "        durationpoints = 2\n",
        "    elif 140 < seconds <= 210:\n",
        "        durationpoints = 3\n",
        "    elif 210 < seconds <= 280:\n",
        "        durationpoints = 4\n",
        "    elif 280 < seconds <= 350:\n",
        "        durationpoints = 5\n",
        "    return durationpoints\n",
        "\n",
        "roller['duration rating'] = roller['Duration (min:sec)'].apply(duration)"
      ],
      "execution_count": 0,
      "outputs": []
    },
    {
      "metadata": {
        "id": "LsEYaC5RbXej",
        "colab_type": "text"
      },
      "cell_type": "markdown",
      "source": [
        "### Length Function\n",
        "\n",
        "The Length Function awards points based on the length of the ride in feet. Rides with a greater length are awarded more points than shorter rides. We added points on a scale based on the minimum and maximum length values in the Length column."
      ]
    },
    {
      "metadata": {
        "id": "x_WGYMlwWD1w",
        "colab_type": "code",
        "colab": {}
      },
      "cell_type": "code",
      "source": [
        "#LENGTH\n",
        "rollerlength = roller['Length (feet)']\n",
        "def length(rollerlength):\n",
        "        if rollerlength <= 1650:\n",
        "            lengthpoints = 1\n",
        "        elif 1650 < rollerlength <= 3330:\n",
        "            lengthpoints = 2\n",
        "        elif 3330 < rollerlength <= 4980:\n",
        "            lengthpoints = 3\n",
        "        elif 4980 < rollerlength <= 6630:\n",
        "            lengthpoints = 4\n",
        "        elif 6630 < rollerlength <= 8280:\n",
        "            lengthpoints = 5\n",
        "        return lengthpoints\n",
        "roller['length rating'] = roller['Length (feet)'].apply(length)"
      ],
      "execution_count": 0,
      "outputs": []
    },
    {
      "metadata": {
        "id": "UyCstX7_dx0k",
        "colab_type": "text"
      },
      "cell_type": "markdown",
      "source": [
        "### Speed Function\n",
        "\n",
        "The Speed Function awards points based on the maximum speed of the ride. Faster rides are awarded more points than slower rides. We added points on a scale based on the minimum and maximum speed values in the Speed column."
      ]
    },
    {
      "metadata": {
        "id": "FdwhbgLMWD11",
        "colab_type": "code",
        "colab": {}
      },
      "cell_type": "code",
      "source": [
        "#SPEED\n",
        "rollerspeed=roller['Speed (mph)']\n",
        "def speed(rollerspeed):\n",
        "    points = 0\n",
        "    \n",
        "    if 25 <= rollerspeed < 50:\n",
        "        points += 1\n",
        "    if 50 <= rollerspeed < 75:\n",
        "        points += 2\n",
        "    if 75 <= rollerspeed < 100:\n",
        "        points += 3\n",
        "    if 100 <= rollerspeed < 125:\n",
        "        points += 4\n",
        "    if 125 <= rollerspeed:\n",
        "        points += 5   \n",
        "    return points\n",
        "roller['speed rating'] = roller['Speed (mph)'].apply(speed)"
      ],
      "execution_count": 0,
      "outputs": []
    },
    {
      "metadata": {
        "id": "vIEsoHjEW0Tk",
        "colab_type": "text"
      },
      "cell_type": "markdown",
      "source": [
        "### Date Opened Function\n",
        "\n",
        "The \"Date Opened\" function gives points to a rollercoaster based on how recently it was built. Newer rollercoasters will be rewarded with more points than older rollercoasters."
      ]
    },
    {
      "metadata": {
        "id": "aQzoTwJuWD2I",
        "colab_type": "code",
        "colab": {}
      },
      "cell_type": "code",
      "source": [
        "#AGE\n",
        "rollerage = roller['Year/Date Opened']\n",
        "def years(rollerage):\n",
        "    points = 0\n",
        "    if rollerage >= 2000:\n",
        "        points += 5\n",
        "    if 1980 <= rollerage < 2000:\n",
        "        points += 4\n",
        "    if 1960 <= rollerage < 1980:\n",
        "        points += 3\n",
        "    if 1940 <= rollerage < 1960:\n",
        "        points += 2\n",
        "    if 1920 <= rollerage < 1940:\n",
        "        points += 1\n",
        "    if rollerage == 'NaN':\n",
        "        points += 0\n",
        "    return points\n",
        "        \n",
        "roller['age rating'] = roller['Year/Date Opened'].apply(years)"
      ],
      "execution_count": 0,
      "outputs": []
    },
    {
      "metadata": {
        "id": "0N_hW_ZwXI61",
        "colab_type": "text"
      },
      "cell_type": "markdown",
      "source": [
        "### Height Function\n",
        "\n",
        "The Height Function awards points to roller coasters based on their maximum height. The minimum height was 29 feet and the maximum height was 456 feet, so we added a point for every 100 feet of height."
      ]
    },
    {
      "metadata": {
        "id": "GfURoRs2WD2P",
        "colab_type": "code",
        "colab": {}
      },
      "cell_type": "code",
      "source": [
        "#HEIGHT\n",
        "rollerheight=roller['Height']\n",
        "\n",
        "\n",
        "def Height(rollerheight):\n",
        "    \n",
        "    points = 0\n",
        "\n",
        "    if rollerheight < 100 :\n",
        "        points += 1\n",
        "    if 100 <= rollerheight <  200 :\n",
        "        points += 2\n",
        "    if 200 <= rollerheight <  300 :\n",
        "        points += 3\n",
        "    if 300 <= rollerheight <  400 :\n",
        "        points += 4\n",
        "    if 400 <= rollerheight <  500 :\n",
        "        points += 5\n",
        "    return points\n",
        "\n",
        "roller['height rating'] = roller['Height'].apply(Height)"
      ],
      "execution_count": 0,
      "outputs": []
    },
    {
      "metadata": {
        "id": "PZ96rCHlXtpZ",
        "colab_type": "text"
      },
      "cell_type": "markdown",
      "source": [
        "### Inversions Function\n",
        "\n",
        "The Inversions Function awards points to roller coaster based on the number of inversions it has. The maximum number of inversions was 14 while the minimum was 0. We awarded a point for every 3 inversions."
      ]
    },
    {
      "metadata": {
        "id": "WvgmMo4xWD2X",
        "colab_type": "code",
        "colab": {}
      },
      "cell_type": "code",
      "source": [
        "#INVERSIONS\n",
        "rollerinversions=roller['Number of Inversions']\n",
        "def Inversions(rollerinversions):   \n",
        "    points = 0\n",
        "    if rollerinversions == 0:\n",
        "        points += 0\n",
        "    if 1 <= rollerinversions < 3 :\n",
        "        points += 1\n",
        "    if 3 <= rollerinversions < 6 :\n",
        "        points += 2\n",
        "    if 6 <= rollerinversions < 9 :\n",
        "        points += 3\n",
        "    if 9 <= rollerinversions < 12 :\n",
        "        points += 4\n",
        "    if 12 <= rollerinversions:\n",
        "        points += 1\n",
        "    return points\n",
        "roller['inversions rating'] = roller['Number of Inversions'].apply(Inversions)"
      ],
      "execution_count": 0,
      "outputs": []
    },
    {
      "metadata": {
        "id": "jyfg00bRfGG9",
        "colab_type": "text"
      },
      "cell_type": "markdown",
      "source": [
        "### Final Rating Function\n",
        "\n",
        "The Final Rating Function simply adds the points from rating column and creates a new column with the sum called \"Total Rating\"."
      ]
    },
    {
      "metadata": {
        "id": "lZnLsJBYWD2b",
        "colab_type": "code",
        "colab": {
          "base_uri": "https://localhost:8080/",
          "height": 218
        },
        "outputId": "d4376ee4-c1ca-468a-d965-a164d1659426"
      },
      "cell_type": "code",
      "source": [
        "def finalrating(rollerspeed,rollerage, rollerduration,rollerheight,rollerinversions):\n",
        "    totalrating = rollerage + rollerspeed + rollerduration + rollerheight + rollerinversions\n",
        "    return totalrating\n",
        "roller['total rating'] = roller['age rating']+roller['speed rating']+roller['length rating'] + roller['height rating'] + roller['inversions rating']"
      ],
      "execution_count": 1,
      "outputs": [
        {
          "output_type": "error",
          "ename": "NameError",
          "evalue": "ignored",
          "traceback": [
            "\u001b[0;31m---------------------------------------------------------------------------\u001b[0m",
            "\u001b[0;31mNameError\u001b[0m                                 Traceback (most recent call last)",
            "\u001b[0;32m<ipython-input-1-b17533d20d20>\u001b[0m in \u001b[0;36m<module>\u001b[0;34m()\u001b[0m\n\u001b[1;32m      2\u001b[0m     \u001b[0mtotalrating\u001b[0m \u001b[0;34m=\u001b[0m \u001b[0mrollerage\u001b[0m \u001b[0;34m+\u001b[0m \u001b[0mrollerspeed\u001b[0m \u001b[0;34m+\u001b[0m \u001b[0mrollerduration\u001b[0m \u001b[0;34m+\u001b[0m \u001b[0mrollerheight\u001b[0m \u001b[0;34m+\u001b[0m \u001b[0mrollerinversions\u001b[0m\u001b[0;34m\u001b[0m\u001b[0;34m\u001b[0m\u001b[0m\n\u001b[1;32m      3\u001b[0m     \u001b[0;32mreturn\u001b[0m \u001b[0mtotalrating\u001b[0m\u001b[0;34m\u001b[0m\u001b[0;34m\u001b[0m\u001b[0m\n\u001b[0;32m----> 4\u001b[0;31m \u001b[0mroller\u001b[0m\u001b[0;34m[\u001b[0m\u001b[0;34m'total rating'\u001b[0m\u001b[0;34m]\u001b[0m \u001b[0;34m=\u001b[0m \u001b[0mroller\u001b[0m\u001b[0;34m[\u001b[0m\u001b[0;34m'age rating'\u001b[0m\u001b[0;34m]\u001b[0m\u001b[0;34m+\u001b[0m\u001b[0mroller\u001b[0m\u001b[0;34m[\u001b[0m\u001b[0;34m'speed rating'\u001b[0m\u001b[0;34m]\u001b[0m\u001b[0;34m+\u001b[0m\u001b[0mroller\u001b[0m\u001b[0;34m[\u001b[0m\u001b[0;34m'length rating'\u001b[0m\u001b[0;34m]\u001b[0m \u001b[0;34m+\u001b[0m \u001b[0mroller\u001b[0m\u001b[0;34m[\u001b[0m\u001b[0;34m'height rating'\u001b[0m\u001b[0;34m]\u001b[0m \u001b[0;34m+\u001b[0m \u001b[0mroller\u001b[0m\u001b[0;34m[\u001b[0m\u001b[0;34m'inversions rating'\u001b[0m\u001b[0;34m]\u001b[0m\u001b[0;34m\u001b[0m\u001b[0;34m\u001b[0m\u001b[0m\n\u001b[0m",
            "\u001b[0;31mNameError\u001b[0m: name 'roller' is not defined"
          ]
        }
      ]
    },
    {
      "metadata": {
        "id": "SnWDb0t_WD2i",
        "colab_type": "code",
        "outputId": "d383c55f-a460-4734-9740-dfac74715810",
        "colab": {
          "base_uri": "https://localhost:8080/",
          "height": 164
        }
      },
      "cell_type": "code",
      "source": [
        "roller.sort_values(by='total rating',ascending = False)"
      ],
      "execution_count": 0,
      "outputs": [
        {
          "output_type": "error",
          "ename": "NameError",
          "evalue": "ignored",
          "traceback": [
            "\u001b[0;31m---------------------------------------------------------------------------\u001b[0m",
            "\u001b[0;31mNameError\u001b[0m                                 Traceback (most recent call last)",
            "\u001b[0;32m<ipython-input-1-60a96055a54a>\u001b[0m in \u001b[0;36m<module>\u001b[0;34m()\u001b[0m\n\u001b[0;32m----> 1\u001b[0;31m \u001b[0mroller\u001b[0m\u001b[0;34m.\u001b[0m\u001b[0msort_values\u001b[0m\u001b[0;34m(\u001b[0m\u001b[0mby\u001b[0m\u001b[0;34m=\u001b[0m\u001b[0;34m'total rating'\u001b[0m\u001b[0;34m,\u001b[0m\u001b[0mascending\u001b[0m \u001b[0;34m=\u001b[0m \u001b[0;32mFalse\u001b[0m\u001b[0;34m)\u001b[0m\u001b[0;34m\u001b[0m\u001b[0;34m\u001b[0m\u001b[0m\n\u001b[0m",
            "\u001b[0;31mNameError\u001b[0m: name 'roller' is not defined"
          ]
        }
      ]
    },
    {
      "metadata": {
        "id": "mQHX4pwqWD2s",
        "colab_type": "code",
        "colab": {}
      },
      "cell_type": "code",
      "source": [
        ""
      ],
      "execution_count": 0,
      "outputs": []
    }
  ]
}